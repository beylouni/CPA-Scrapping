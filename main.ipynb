{
 "cells": [
  {
   "cell_type": "code",
   "execution_count": 6,
   "metadata": {},
   "outputs": [],
   "source": [
    "import pandas as pd\n",
    "import numpy as np\n",
    "from pysus.online_data import SINAN, FTP_Inspect, parquets_to_dataframe\n",
    "from pysus.preprocessing.decoders import decodifica_idade_SINAN\n",
    "decodifica_idade_SINAN\n",
    "import pandas as pd\n",
    "import geopandas as gpd\n",
    "from keplergl import KeplerGl\n"
   ]
  },
  {
   "attachments": {},
   "cell_type": "markdown",
   "metadata": {},
   "source": [
    "# Importando base de dados da Poliomielite"
   ]
  },
  {
   "cell_type": "code",
   "execution_count": 7,
   "metadata": {},
   "outputs": [],
   "source": [
    "years = SINAN.get_available_years('Poliomielite')"
   ]
  },
  {
   "attachments": {},
   "cell_type": "markdown",
   "metadata": {},
   "source": [
    "* Concatenando os dataframes disponíves em cada ano"
   ]
  },
  {
   "cell_type": "code",
   "execution_count": 8,
   "metadata": {},
   "outputs": [],
   "source": [
    "df = pd.DataFrame()\n",
    "for y in years:\n",
    "    fn = SINAN.download('Poliomielite', y)\n",
    "    df2 = parquets_to_dataframe(fn)\n",
    "    df = pd.concat([df, df2])"
   ]
  },
  {
   "cell_type": "code",
   "execution_count": 4,
   "metadata": {},
   "outputs": [
    {
     "data": {
      "text/plain": [
       "(4172, 168)"
      ]
     },
     "execution_count": 4,
     "metadata": {},
     "output_type": "execute_result"
    }
   ],
   "source": [
    "df.shape"
   ]
  },
  {
   "attachments": {},
   "cell_type": "markdown",
   "metadata": {},
   "source": [
    "* Colunas com datas e ID's vem codificadas. No código abaixo executamos a decodificação"
   ]
  },
  {
   "cell_type": "code",
   "execution_count": 9,
   "metadata": {},
   "outputs": [],
   "source": [
    "for cname in df.columns:\n",
    "    if cname.startswith('DT_'):\n",
    "        df[cname] = pd.to_datetime(df[cname], errors='coerce')\n",
    "    elif cname.startswith('ID_'):\n",
    "        try:\n",
    "            df[cname] = pd.to_numeric(df[cname])\n",
    "        except ValueError:\n",
    "            continue"
   ]
  },
  {
   "cell_type": "code",
   "execution_count": null,
   "metadata": {},
   "outputs": [],
   "source": [
    "display(df)"
   ]
  },
  {
   "attachments": {},
   "cell_type": "markdown",
   "metadata": {},
   "source": [
    "* Renomeando os estados de acordo com sua sigla"
   ]
  },
  {
   "cell_type": "code",
   "execution_count": 10,
   "metadata": {},
   "outputs": [],
   "source": [
    "def func(a):\n",
    "    estados = {\n",
    "    '11': 'RO', '12': 'AC', '13': 'AM', '14': 'RR', '15': 'PA',\n",
    "    '16': 'AP', '17': 'TO', '21': 'MA', '22': 'PI', '23': 'CE',\n",
    "    '24': 'RN', '25': 'PB', '26': 'PE', '27': 'AL', '28': 'SE',\n",
    "    '29': 'BA', '31': 'MG', '32': 'ES', '33': 'RJ', '35': 'SP',\n",
    "    '41': 'PR', '42': 'SC', '43': 'RS', '50': 'MS', '51': 'MT',\n",
    "    '52': 'GO', '53': 'DF'\n",
    "}\n",
    "    return estados[a]\n",
    "    \n",
    "df['SG_UF'] = df['SG_UF'].apply(lambda x: func(x))"
   ]
  },
  {
   "cell_type": "code",
   "execution_count": 8,
   "metadata": {},
   "outputs": [
    {
     "name": "stdout",
     "output_type": "stream",
     "text": [
      "NaN na coluna dos estados  0\n",
      "NaN na coluna das datas  0\n"
     ]
    }
   ],
   "source": [
    "print(f'NaN na coluna dos estados ', df['SG_UF'].isnull().sum())\n",
    "print('NaN na coluna das datas ', df['DT_NOTIFIC'].isnull().sum())"
   ]
  },
  {
   "cell_type": "code",
   "execution_count": 11,
   "metadata": {},
   "outputs": [],
   "source": [
    "df['DT_NOTIFIC'] = pd.to_datetime(df['DT_NOTIFIC'])\n",
    "df['ANO'] = df['DT_NOTIFIC'].dt.year"
   ]
  },
  {
   "attachments": {},
   "cell_type": "markdown",
   "metadata": {},
   "source": [
    "* Nosso objetivo é obter os casos por ano em cada estado. Logo executamos o groupby"
   ]
  },
  {
   "cell_type": "code",
   "execution_count": 12,
   "metadata": {},
   "outputs": [
    {
     "data": {
      "text/html": [
       "<div>\n",
       "<style scoped>\n",
       "    .dataframe tbody tr th:only-of-type {\n",
       "        vertical-align: middle;\n",
       "    }\n",
       "\n",
       "    .dataframe tbody tr th {\n",
       "        vertical-align: top;\n",
       "    }\n",
       "\n",
       "    .dataframe thead th {\n",
       "        text-align: right;\n",
       "    }\n",
       "</style>\n",
       "<table border=\"1\" class=\"dataframe\">\n",
       "  <thead>\n",
       "    <tr style=\"text-align: right;\">\n",
       "      <th></th>\n",
       "      <th>SG_UF</th>\n",
       "      <th>ANO</th>\n",
       "      <th>CASOS</th>\n",
       "    </tr>\n",
       "  </thead>\n",
       "  <tbody>\n",
       "    <tr>\n",
       "      <th>0</th>\n",
       "      <td>AC</td>\n",
       "      <td>2012</td>\n",
       "      <td>6</td>\n",
       "    </tr>\n",
       "    <tr>\n",
       "      <th>1</th>\n",
       "      <td>AC</td>\n",
       "      <td>2013</td>\n",
       "      <td>4</td>\n",
       "    </tr>\n",
       "    <tr>\n",
       "      <th>2</th>\n",
       "      <td>AC</td>\n",
       "      <td>2014</td>\n",
       "      <td>6</td>\n",
       "    </tr>\n",
       "    <tr>\n",
       "      <th>3</th>\n",
       "      <td>AC</td>\n",
       "      <td>2015</td>\n",
       "      <td>3</td>\n",
       "    </tr>\n",
       "    <tr>\n",
       "      <th>4</th>\n",
       "      <td>AC</td>\n",
       "      <td>2016</td>\n",
       "      <td>3</td>\n",
       "    </tr>\n",
       "    <tr>\n",
       "      <th>...</th>\n",
       "      <td>...</td>\n",
       "      <td>...</td>\n",
       "      <td>...</td>\n",
       "    </tr>\n",
       "    <tr>\n",
       "      <th>242</th>\n",
       "      <td>TO</td>\n",
       "      <td>2016</td>\n",
       "      <td>5</td>\n",
       "    </tr>\n",
       "    <tr>\n",
       "      <th>243</th>\n",
       "      <td>TO</td>\n",
       "      <td>2017</td>\n",
       "      <td>6</td>\n",
       "    </tr>\n",
       "    <tr>\n",
       "      <th>244</th>\n",
       "      <td>TO</td>\n",
       "      <td>2018</td>\n",
       "      <td>6</td>\n",
       "    </tr>\n",
       "    <tr>\n",
       "      <th>245</th>\n",
       "      <td>TO</td>\n",
       "      <td>2019</td>\n",
       "      <td>4</td>\n",
       "    </tr>\n",
       "    <tr>\n",
       "      <th>246</th>\n",
       "      <td>TO</td>\n",
       "      <td>2020</td>\n",
       "      <td>2</td>\n",
       "    </tr>\n",
       "  </tbody>\n",
       "</table>\n",
       "<p>247 rows × 3 columns</p>\n",
       "</div>"
      ],
      "text/plain": [
       "    SG_UF   ANO  CASOS\n",
       "0      AC  2012      6\n",
       "1      AC  2013      4\n",
       "2      AC  2014      6\n",
       "3      AC  2015      3\n",
       "4      AC  2016      3\n",
       "..    ...   ...    ...\n",
       "242    TO  2016      5\n",
       "243    TO  2017      6\n",
       "244    TO  2018      6\n",
       "245    TO  2019      4\n",
       "246    TO  2020      2\n",
       "\n",
       "[247 rows x 3 columns]"
      ]
     },
     "execution_count": 12,
     "metadata": {},
     "output_type": "execute_result"
    }
   ],
   "source": [
    "selecionado = df[['SG_UF', 'ANO']]\n",
    "agrupados = selecionado.groupby(['SG_UF', 'ANO'],as_index=False).size()\n",
    "df2 = pd.DataFrame(agrupados)\n",
    "df2.rename(columns={'size' : 'CASOS'}, inplace=True)\n",
    "df2"
   ]
  },
  {
   "attachments": {},
   "cell_type": "markdown",
   "metadata": {},
   "source": [
    "### O arquivo 'BR_UF_2022.shp' contem as informações geométricas de cada região \n",
    " * Shape file obtido do link abaixo:\n",
    "\n",
    "https://www.ibge.gov.br/geociencias/organizacao-do-territorio/estrutura-territorial/15774-divisao-territorial-brasileira.html."
   ]
  },
  {
   "attachments": {},
   "cell_type": "markdown",
   "metadata": {},
   "source": [
    "* Nomeando cada coordenada com seu respetivo estado"
   ]
  },
  {
   "cell_type": "code",
   "execution_count": 13,
   "metadata": {},
   "outputs": [
    {
     "name": "stderr",
     "output_type": "stream",
     "text": [
      "/home/joao/anaconda3/envs/L3/lib/python3.9/site-packages/geopandas/array.py:93: ShapelyDeprecationWarning: __len__ for multi-part geometries is deprecated and will be removed in Shapely 2.0. Check the length of the `geoms` property instead to get the  number of parts of a multi-part geometry.\n",
      "  aout[:] = out\n"
     ]
    }
   ],
   "source": [
    "estados = [\n",
    "    'AC', 'AM', 'PA', 'AP', 'TO', 'MA', 'PI', 'CE', 'RN', 'PB',\n",
    "    'PE', 'AL', 'SE', 'BA', 'MG', 'ES', 'RJ', 'SP', 'PR', 'SC',\n",
    "    'RS', 'MS', 'MT', 'GO', 'DF', 'RO', 'RR'\n",
    "]\n",
    "series_estados = pd.Series(estados)\n",
    "estados_gdf = gpd.read_file(\"./BR_UF_2022.shp\")\n",
    "estados_gdf['SG_UF'] = estados_gdf\n"
   ]
  },
  {
   "attachments": {},
   "cell_type": "markdown",
   "metadata": {},
   "source": [
    "* Juntamos as informações de cada região com suas respectivas coordenadas"
   ]
  },
  {
   "cell_type": "code",
   "execution_count": 24,
   "metadata": {},
   "outputs": [],
   "source": [
    "merged = pd.merge(df2, estados_gdf, on='SG_UF')"
   ]
  },
  {
   "cell_type": "code",
   "execution_count": 15,
   "metadata": {},
   "outputs": [
    {
     "data": {
      "text/html": [
       "<div>\n",
       "<style scoped>\n",
       "    .dataframe tbody tr th:only-of-type {\n",
       "        vertical-align: middle;\n",
       "    }\n",
       "\n",
       "    .dataframe tbody tr th {\n",
       "        vertical-align: top;\n",
       "    }\n",
       "\n",
       "    .dataframe thead th {\n",
       "        text-align: right;\n",
       "    }\n",
       "</style>\n",
       "<table border=\"1\" class=\"dataframe\">\n",
       "  <thead>\n",
       "    <tr style=\"text-align: right;\">\n",
       "      <th></th>\n",
       "      <th>SG_UF</th>\n",
       "      <th>ANO</th>\n",
       "      <th>CASOS</th>\n",
       "      <th>geometry</th>\n",
       "    </tr>\n",
       "  </thead>\n",
       "  <tbody>\n",
       "    <tr>\n",
       "      <th>0</th>\n",
       "      <td>AC</td>\n",
       "      <td>2012</td>\n",
       "      <td>6</td>\n",
       "      <td>POLYGON ((-68.79282 -10.99957, -68.79367 -10.9...</td>\n",
       "    </tr>\n",
       "    <tr>\n",
       "      <th>1</th>\n",
       "      <td>AC</td>\n",
       "      <td>2013</td>\n",
       "      <td>4</td>\n",
       "      <td>POLYGON ((-68.79282 -10.99957, -68.79367 -10.9...</td>\n",
       "    </tr>\n",
       "    <tr>\n",
       "      <th>2</th>\n",
       "      <td>AC</td>\n",
       "      <td>2014</td>\n",
       "      <td>6</td>\n",
       "      <td>POLYGON ((-68.79282 -10.99957, -68.79367 -10.9...</td>\n",
       "    </tr>\n",
       "    <tr>\n",
       "      <th>3</th>\n",
       "      <td>AC</td>\n",
       "      <td>2015</td>\n",
       "      <td>3</td>\n",
       "      <td>POLYGON ((-68.79282 -10.99957, -68.79367 -10.9...</td>\n",
       "    </tr>\n",
       "    <tr>\n",
       "      <th>4</th>\n",
       "      <td>AC</td>\n",
       "      <td>2016</td>\n",
       "      <td>3</td>\n",
       "      <td>POLYGON ((-68.79282 -10.99957, -68.79367 -10.9...</td>\n",
       "    </tr>\n",
       "    <tr>\n",
       "      <th>...</th>\n",
       "      <td>...</td>\n",
       "      <td>...</td>\n",
       "      <td>...</td>\n",
       "      <td>...</td>\n",
       "    </tr>\n",
       "    <tr>\n",
       "      <th>242</th>\n",
       "      <td>TO</td>\n",
       "      <td>2016</td>\n",
       "      <td>5</td>\n",
       "      <td>POLYGON ((-48.24830 -13.19239, -48.24844 -13.1...</td>\n",
       "    </tr>\n",
       "    <tr>\n",
       "      <th>243</th>\n",
       "      <td>TO</td>\n",
       "      <td>2017</td>\n",
       "      <td>6</td>\n",
       "      <td>POLYGON ((-48.24830 -13.19239, -48.24844 -13.1...</td>\n",
       "    </tr>\n",
       "    <tr>\n",
       "      <th>244</th>\n",
       "      <td>TO</td>\n",
       "      <td>2018</td>\n",
       "      <td>6</td>\n",
       "      <td>POLYGON ((-48.24830 -13.19239, -48.24844 -13.1...</td>\n",
       "    </tr>\n",
       "    <tr>\n",
       "      <th>245</th>\n",
       "      <td>TO</td>\n",
       "      <td>2019</td>\n",
       "      <td>4</td>\n",
       "      <td>POLYGON ((-48.24830 -13.19239, -48.24844 -13.1...</td>\n",
       "    </tr>\n",
       "    <tr>\n",
       "      <th>246</th>\n",
       "      <td>TO</td>\n",
       "      <td>2020</td>\n",
       "      <td>2</td>\n",
       "      <td>POLYGON ((-48.24830 -13.19239, -48.24844 -13.1...</td>\n",
       "    </tr>\n",
       "  </tbody>\n",
       "</table>\n",
       "<p>247 rows × 4 columns</p>\n",
       "</div>"
      ],
      "text/plain": [
       "    SG_UF   ANO  CASOS                                           geometry\n",
       "0      AC  2012      6  POLYGON ((-68.79282 -10.99957, -68.79367 -10.9...\n",
       "1      AC  2013      4  POLYGON ((-68.79282 -10.99957, -68.79367 -10.9...\n",
       "2      AC  2014      6  POLYGON ((-68.79282 -10.99957, -68.79367 -10.9...\n",
       "3      AC  2015      3  POLYGON ((-68.79282 -10.99957, -68.79367 -10.9...\n",
       "4      AC  2016      3  POLYGON ((-68.79282 -10.99957, -68.79367 -10.9...\n",
       "..    ...   ...    ...                                                ...\n",
       "242    TO  2016      5  POLYGON ((-48.24830 -13.19239, -48.24844 -13.1...\n",
       "243    TO  2017      6  POLYGON ((-48.24830 -13.19239, -48.24844 -13.1...\n",
       "244    TO  2018      6  POLYGON ((-48.24830 -13.19239, -48.24844 -13.1...\n",
       "245    TO  2019      4  POLYGON ((-48.24830 -13.19239, -48.24844 -13.1...\n",
       "246    TO  2020      2  POLYGON ((-48.24830 -13.19239, -48.24844 -13.1...\n",
       "\n",
       "[247 rows x 4 columns]"
      ]
     },
     "execution_count": 15,
     "metadata": {},
     "output_type": "execute_result"
    }
   ],
   "source": [
    "merged"
   ]
  },
  {
   "attachments": {},
   "cell_type": "markdown",
   "metadata": {},
   "source": [
    "* Transformando a coluna ano para o formato que o Kepler irá entender"
   ]
  },
  {
   "cell_type": "code",
   "execution_count": 25,
   "metadata": {},
   "outputs": [],
   "source": [
    "merged['ANO'] = pd.to_datetime(merged['ANO'], format='%Y').dt.strftime('%Y-01-01T00:00:00')\n"
   ]
  },
  {
   "cell_type": "code",
   "execution_count": 26,
   "metadata": {},
   "outputs": [
    {
     "data": {
      "text/html": [
       "<div>\n",
       "<style scoped>\n",
       "    .dataframe tbody tr th:only-of-type {\n",
       "        vertical-align: middle;\n",
       "    }\n",
       "\n",
       "    .dataframe tbody tr th {\n",
       "        vertical-align: top;\n",
       "    }\n",
       "\n",
       "    .dataframe thead th {\n",
       "        text-align: right;\n",
       "    }\n",
       "</style>\n",
       "<table border=\"1\" class=\"dataframe\">\n",
       "  <thead>\n",
       "    <tr style=\"text-align: right;\">\n",
       "      <th></th>\n",
       "      <th>SG_UF</th>\n",
       "      <th>ANO</th>\n",
       "      <th>CASOS</th>\n",
       "      <th>geometry</th>\n",
       "    </tr>\n",
       "  </thead>\n",
       "  <tbody>\n",
       "    <tr>\n",
       "      <th>0</th>\n",
       "      <td>AC</td>\n",
       "      <td>2012-01-01T00:00:00</td>\n",
       "      <td>6</td>\n",
       "      <td>POLYGON ((-68.79282 -10.99957, -68.79367 -10.9...</td>\n",
       "    </tr>\n",
       "    <tr>\n",
       "      <th>1</th>\n",
       "      <td>AC</td>\n",
       "      <td>2013-01-01T00:00:00</td>\n",
       "      <td>4</td>\n",
       "      <td>POLYGON ((-68.79282 -10.99957, -68.79367 -10.9...</td>\n",
       "    </tr>\n",
       "    <tr>\n",
       "      <th>2</th>\n",
       "      <td>AC</td>\n",
       "      <td>2014-01-01T00:00:00</td>\n",
       "      <td>6</td>\n",
       "      <td>POLYGON ((-68.79282 -10.99957, -68.79367 -10.9...</td>\n",
       "    </tr>\n",
       "    <tr>\n",
       "      <th>3</th>\n",
       "      <td>AC</td>\n",
       "      <td>2015-01-01T00:00:00</td>\n",
       "      <td>3</td>\n",
       "      <td>POLYGON ((-68.79282 -10.99957, -68.79367 -10.9...</td>\n",
       "    </tr>\n",
       "    <tr>\n",
       "      <th>4</th>\n",
       "      <td>AC</td>\n",
       "      <td>2016-01-01T00:00:00</td>\n",
       "      <td>3</td>\n",
       "      <td>POLYGON ((-68.79282 -10.99957, -68.79367 -10.9...</td>\n",
       "    </tr>\n",
       "    <tr>\n",
       "      <th>...</th>\n",
       "      <td>...</td>\n",
       "      <td>...</td>\n",
       "      <td>...</td>\n",
       "      <td>...</td>\n",
       "    </tr>\n",
       "    <tr>\n",
       "      <th>242</th>\n",
       "      <td>TO</td>\n",
       "      <td>2016-01-01T00:00:00</td>\n",
       "      <td>5</td>\n",
       "      <td>POLYGON ((-48.24830 -13.19239, -48.24844 -13.1...</td>\n",
       "    </tr>\n",
       "    <tr>\n",
       "      <th>243</th>\n",
       "      <td>TO</td>\n",
       "      <td>2017-01-01T00:00:00</td>\n",
       "      <td>6</td>\n",
       "      <td>POLYGON ((-48.24830 -13.19239, -48.24844 -13.1...</td>\n",
       "    </tr>\n",
       "    <tr>\n",
       "      <th>244</th>\n",
       "      <td>TO</td>\n",
       "      <td>2018-01-01T00:00:00</td>\n",
       "      <td>6</td>\n",
       "      <td>POLYGON ((-48.24830 -13.19239, -48.24844 -13.1...</td>\n",
       "    </tr>\n",
       "    <tr>\n",
       "      <th>245</th>\n",
       "      <td>TO</td>\n",
       "      <td>2019-01-01T00:00:00</td>\n",
       "      <td>4</td>\n",
       "      <td>POLYGON ((-48.24830 -13.19239, -48.24844 -13.1...</td>\n",
       "    </tr>\n",
       "    <tr>\n",
       "      <th>246</th>\n",
       "      <td>TO</td>\n",
       "      <td>2020-01-01T00:00:00</td>\n",
       "      <td>2</td>\n",
       "      <td>POLYGON ((-48.24830 -13.19239, -48.24844 -13.1...</td>\n",
       "    </tr>\n",
       "  </tbody>\n",
       "</table>\n",
       "<p>247 rows × 4 columns</p>\n",
       "</div>"
      ],
      "text/plain": [
       "    SG_UF                  ANO  CASOS  \\\n",
       "0      AC  2012-01-01T00:00:00      6   \n",
       "1      AC  2013-01-01T00:00:00      4   \n",
       "2      AC  2014-01-01T00:00:00      6   \n",
       "3      AC  2015-01-01T00:00:00      3   \n",
       "4      AC  2016-01-01T00:00:00      3   \n",
       "..    ...                  ...    ...   \n",
       "242    TO  2016-01-01T00:00:00      5   \n",
       "243    TO  2017-01-01T00:00:00      6   \n",
       "244    TO  2018-01-01T00:00:00      6   \n",
       "245    TO  2019-01-01T00:00:00      4   \n",
       "246    TO  2020-01-01T00:00:00      2   \n",
       "\n",
       "                                              geometry  \n",
       "0    POLYGON ((-68.79282 -10.99957, -68.79367 -10.9...  \n",
       "1    POLYGON ((-68.79282 -10.99957, -68.79367 -10.9...  \n",
       "2    POLYGON ((-68.79282 -10.99957, -68.79367 -10.9...  \n",
       "3    POLYGON ((-68.79282 -10.99957, -68.79367 -10.9...  \n",
       "4    POLYGON ((-68.79282 -10.99957, -68.79367 -10.9...  \n",
       "..                                                 ...  \n",
       "242  POLYGON ((-48.24830 -13.19239, -48.24844 -13.1...  \n",
       "243  POLYGON ((-48.24830 -13.19239, -48.24844 -13.1...  \n",
       "244  POLYGON ((-48.24830 -13.19239, -48.24844 -13.1...  \n",
       "245  POLYGON ((-48.24830 -13.19239, -48.24844 -13.1...  \n",
       "246  POLYGON ((-48.24830 -13.19239, -48.24844 -13.1...  \n",
       "\n",
       "[247 rows x 4 columns]"
      ]
     },
     "execution_count": 26,
     "metadata": {},
     "output_type": "execute_result"
    }
   ],
   "source": [
    "merged"
   ]
  },
  {
   "attachments": {},
   "cell_type": "markdown",
   "metadata": {},
   "source": [
    "### Criando o geodataframe"
   ]
  },
  {
   "cell_type": "code",
   "execution_count": 27,
   "metadata": {},
   "outputs": [
    {
     "name": "stdout",
     "output_type": "stream",
     "text": [
      "  SG_UF                  ANO  CASOS  \\\n",
      "0    AC  2012-01-01T00:00:00      6   \n",
      "1    AC  2013-01-01T00:00:00      4   \n",
      "2    AC  2014-01-01T00:00:00      6   \n",
      "3    AC  2015-01-01T00:00:00      3   \n",
      "4    AC  2016-01-01T00:00:00      3   \n",
      "\n",
      "                                            geometry  \n",
      "0  POLYGON ((-68.79282 -10.99957, -68.79367 -10.9...  \n",
      "1  POLYGON ((-68.79282 -10.99957, -68.79367 -10.9...  \n",
      "2  POLYGON ((-68.79282 -10.99957, -68.79367 -10.9...  \n",
      "3  POLYGON ((-68.79282 -10.99957, -68.79367 -10.9...  \n",
      "4  POLYGON ((-68.79282 -10.99957, -68.79367 -10.9...  \n"
     ]
    }
   ],
   "source": [
    "\n",
    "gdf = gpd.GeoDataFrame(merged, geometry=\"geometry\")\n",
    "print(gdf.head())"
   ]
  },
  {
   "cell_type": "code",
   "execution_count": 28,
   "metadata": {},
   "outputs": [
    {
     "name": "stderr",
     "output_type": "stream",
     "text": [
      "/home/joao/anaconda3/envs/L3/lib/python3.9/site-packages/geopandas/io/file.py:174: FutureWarning: pandas.Int64Index is deprecated and will be removed from pandas in a future version. Use pandas.Index with the appropriate dtype instead.\n",
      "  pd.Int64Index,\n"
     ]
    }
   ],
   "source": [
    "gdf.to_file('dataframe.geojson', driver='GeoJSON') "
   ]
  }
 ],
 "metadata": {
  "kernelspec": {
   "display_name": "Python 3.9.16 ('L3')",
   "language": "python",
   "name": "python3"
  },
  "language_info": {
   "codemirror_mode": {
    "name": "ipython",
    "version": 3
   },
   "file_extension": ".py",
   "mimetype": "text/x-python",
   "name": "python",
   "nbconvert_exporter": "python",
   "pygments_lexer": "ipython3",
   "version": "3.9.16"
  },
  "orig_nbformat": 4,
  "vscode": {
   "interpreter": {
    "hash": "660fa38c6c7c05c72ae4c6cd25633fde1b07a877733258bdd24b80788ccfd8c6"
   }
  }
 },
 "nbformat": 4,
 "nbformat_minor": 2
}
